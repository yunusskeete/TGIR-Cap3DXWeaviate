{
 "cells": [
  {
   "cell_type": "markdown",
   "metadata": {},
   "source": [
    "# Monitor\n",
    "\n",
    "A notebook to monitor the status of bulk asset uploads (with [data_loading.py](data_loading.py))"
   ]
  },
  {
   "cell_type": "code",
   "execution_count": 122,
   "metadata": {},
   "outputs": [
    {
     "data": {
      "text/plain": [
       "15000"
      ]
     },
     "execution_count": 122,
     "metadata": {},
     "output_type": "execute_result"
    }
   ],
   "source": [
    "from pathlib import Path\n",
    "\n",
    "PATH_TO_EXAMPLE_OBJECTS = \"/home/yunusskeete/Documents/data/3D/Cap3D/local-split/unzips/compressed_imgs_perobj_00.zip/Cap3D_Objaverse_renderimgs\"\n",
    "path_to_example_objects = Path(PATH_TO_EXAMPLE_OBJECTS)\n",
    "len(list(path_to_example_objects.iterdir()))"
   ]
  },
  {
   "cell_type": "code",
   "execution_count": 200,
   "metadata": {},
   "outputs": [
    {
     "name": "stdout",
     "output_type": "stream",
     "text": [
      "Client connection established\n",
      "Number of objects in Cap3DMM collection: 15000\n",
      "<class 'list'>\n",
      "512\n",
      "[0.18559761345386505, 0.09231404215097427, -0.10407475382089615, -0.09906937181949615, 0.07314038276672363]\n"
     ]
    }
   ],
   "source": [
    "import requests\n",
    "import json\n",
    "import weaviate\n",
    "import weaviate.classes as wvc\n",
    "from weaviate.classes.init import AdditionalConfig, Timeout\n",
    "import weaviate.classes.query as wq\n",
    "from weaviate.connect import ConnectionParams\n",
    "\n",
    "HTTP_HOST = \"localhost\"\n",
    "HTTP_PORT = 8080\n",
    "HTTP_SECURE = False\n",
    "\n",
    "GRPC_HOST = \"localhost\"\n",
    "GRPC_PORT = 50051\n",
    "GRPC_SECURE = False\n",
    "\n",
    "INTIALISATION_TIMEOUT_S = 2\n",
    "QUERY_TIMEOUT_S = 45\n",
    "INSERT_TIMEOUT_S = 120\n",
    "\n",
    "COLLECTION_NAME = \"Cap3DMM\"\n",
    "DATA_UPLOAD_COLLECTION_NAME = \"UploadCap3DMM\"\n",
    "\n",
    "\n",
    "fname = \"jeopardy_tiny_with_vectors_all-OpenAI-ada-002.json\"  # This file includes pre-generated vectors\n",
    "url = (\n",
    "    f\"https://raw.githubusercontent.com/weaviate-tutorials/quickstart/main/data/{fname}\"\n",
    ")\n",
    "resp = requests.get(url)\n",
    "data = json.loads(resp.text)  # Load data\n",
    "\n",
    "\n",
    "with weaviate.WeaviateClient(\n",
    "    connection_params=ConnectionParams.from_params(\n",
    "        http_host=HTTP_HOST,\n",
    "        http_port=HTTP_PORT,\n",
    "        http_secure=HTTP_SECURE,\n",
    "        grpc_host=GRPC_HOST,\n",
    "        grpc_port=GRPC_PORT,\n",
    "        grpc_secure=GRPC_SECURE,\n",
    "    ),\n",
    "    additional_config=AdditionalConfig(\n",
    "        timeout=Timeout(\n",
    "            init=INTIALISATION_TIMEOUT_S, query=QUERY_TIMEOUT_S, insert=INSERT_TIMEOUT_S\n",
    "        ),  # Values in seconds\n",
    "    ),\n",
    ") as client:\n",
    "    assert (\n",
    "        client.is_live()\n",
    "    ), \"Weaviate client is not live\"  # This will raise an exception if the client is not live\n",
    "    print(\"Client connection established\")\n",
    "\n",
    "    cap3d = client.collections.get(COLLECTION_NAME)\n",
    "    cap3d_object_count = cap3d.aggregate.over_all(total_count=True).total_count\n",
    "\n",
    "    print(f\"Number of objects in {COLLECTION_NAME} collection: {cap3d_object_count}\")\n",
    "\n",
    "    uuid = \"8e88212e-12ce-5942-954f-f49ed469dfe8\"  # '71b52390-eb7d-5c9f-8c42-ef60966a0a4f' # '4ce6f46c-d0b0-5b8b-8fe0-c7048eaa09fe'\n",
    "    obj = cap3d.query.fetch_object_by_id(uuid, include_vector=True)\n",
    "\n",
    "    if obj:\n",
    "        print(type(obj.vector[\"default\"]))\n",
    "        print(len(obj.vector[\"default\"]))\n",
    "        print(obj.vector[\"default\"][:5])"
   ]
  }
 ],
 "metadata": {
  "kernelspec": {
   "display_name": "weaviate",
   "language": "python",
   "name": "python3"
  },
  "language_info": {
   "codemirror_mode": {
    "name": "ipython",
    "version": 3
   },
   "file_extension": ".py",
   "mimetype": "text/x-python",
   "name": "python",
   "nbconvert_exporter": "python",
   "pygments_lexer": "ipython3",
   "version": "3.11.9"
  }
 },
 "nbformat": 4,
 "nbformat_minor": 2
}
