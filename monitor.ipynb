{
 "cells": [
  {
   "cell_type": "code",
   "execution_count": 8,
   "metadata": {},
   "outputs": [
    {
     "name": "stdout",
     "output_type": "stream",
     "text": [
      "Client connection established\n",
      "Number of objects in Cap3DMM collection: 0\n",
      "Number of objects in UploadCap3DMM collection: 780\n"
     ]
    }
   ],
   "source": [
    "import weaviate\n",
    "from weaviate.classes.init import AdditionalConfig, Timeout\n",
    "from weaviate.connect import ConnectionParams\n",
    "\n",
    "\n",
    "HTTP_HOST = \"localhost\"\n",
    "HTTP_PORT = 8080\n",
    "HTTP_SECURE = False\n",
    "\n",
    "GRPC_HOST = \"localhost\"\n",
    "GRPC_PORT = 50051\n",
    "GRPC_SECURE = False\n",
    "\n",
    "INTIALISATION_TIMEOUT_S = 2\n",
    "QUERY_TIMEOUT_S = 45\n",
    "INSERT_TIMEOUT_S = 120\n",
    "\n",
    "COLLECTION_NAME = \"Cap3DMM\"\n",
    "DATA_UPLOAD_COLLECTION_NAME = \"UploadCap3DMM\"\n",
    "\n",
    "\n",
    "with weaviate.WeaviateClient(\n",
    "    connection_params=ConnectionParams.from_params(\n",
    "        http_host=HTTP_HOST,\n",
    "        http_port=HTTP_PORT,\n",
    "        http_secure=HTTP_SECURE,\n",
    "        grpc_host=GRPC_HOST,\n",
    "        grpc_port=GRPC_PORT,\n",
    "        grpc_secure=GRPC_SECURE,\n",
    "    ),\n",
    "    additional_config=AdditionalConfig(\n",
    "        timeout=Timeout(\n",
    "            init=INTIALISATION_TIMEOUT_S, query=QUERY_TIMEOUT_S, insert=INSERT_TIMEOUT_S\n",
    "        ),  # Values in seconds\n",
    "    ),\n",
    ") as client:\n",
    "    assert (\n",
    "        client.is_live()\n",
    "    ), \"Weaviate client is not live\"  # This will raise an exception if the client is not live\n",
    "    print(\"Client connection established\")\n",
    "\n",
    "    cap3d = client.collections.get(COLLECTION_NAME)\n",
    "    cap3d_object_count = cap3d.aggregate.over_all(total_count=True).total_count\n",
    "    cap3d_upload = client.collections.get(DATA_UPLOAD_COLLECTION_NAME)\n",
    "    cap3d_upload_image_count = cap3d_upload.aggregate.over_all(\n",
    "        total_count=True\n",
    "    ).total_count\n",
    "\n",
    "    print(f\"Number of objects in {COLLECTION_NAME} collection: {cap3d_object_count}\")\n",
    "    print(\n",
    "        f\"Number of objects in {DATA_UPLOAD_COLLECTION_NAME} collection: {cap3d_upload_image_count}\"\n",
    "    )\n",
    "\n",
    "    uuids = [\n",
    "        \"46c932c1-d44e-5b30-95d7-4c8909d02fb8\",\n",
    "        \"91faaa0e-6a0f-5587-a2dd-fd6e2f3ca3e8\",\n",
    "        \"db04848b-c5dd-5ec1-a340-adcc209e9b5e\",\n",
    "        \"e574ddc1-3171-5a81-a3aa-d4e2928b9f54\",\n",
    "        \"baa41176-79e8-5fbb-8b16-7444f228f88a\",\n",
    "    ]\n",
    "    obj = cap3d.query.fetch_object_by_id(uuids[0], include_vector=True)"
   ]
  },
  {
   "cell_type": "code",
   "execution_count": 50,
   "metadata": {},
   "outputs": [
    {
     "data": {
      "text/plain": [
       "20000"
      ]
     },
     "execution_count": 50,
     "metadata": {},
     "output_type": "execute_result"
    }
   ],
   "source": [
    "1000 * 20"
   ]
  },
  {
   "cell_type": "code",
   "execution_count": 51,
   "metadata": {},
   "outputs": [
    {
     "data": {
      "text/plain": [
       "264.0"
      ]
     },
     "execution_count": 51,
     "metadata": {},
     "output_type": "execute_result"
    }
   ],
   "source": [
    "5280 / 20"
   ]
  },
  {
   "cell_type": "code",
   "execution_count": 20,
   "metadata": {},
   "outputs": [],
   "source": [
    "obj"
   ]
  },
  {
   "cell_type": "code",
   "execution_count": 42,
   "metadata": {},
   "outputs": [
    {
     "data": {
      "text/plain": [
       "{}"
      ]
     },
     "execution_count": 42,
     "metadata": {},
     "output_type": "execute_result"
    }
   ],
   "source": [
    "obj.vector"
   ]
  },
  {
   "cell_type": "code",
   "execution_count": 43,
   "metadata": {},
   "outputs": [
    {
     "data": {
      "text/plain": [
       "15000"
      ]
     },
     "execution_count": 43,
     "metadata": {},
     "output_type": "execute_result"
    }
   ],
   "source": [
    "from pathlib import Path\n",
    "\n",
    "PATH_TO_EXAMPLE_OBJECTS = \"/home/yunusskeete/Documents/data/3D/Cap3D/local-split/unzips/compressed_imgs_perobj_00.zip/Cap3D_Objaverse_renderimgs\"\n",
    "path_to_example_objects = Path(PATH_TO_EXAMPLE_OBJECTS)\n",
    "sum(1 for _ in path_to_example_objects.iterdir())"
   ]
  }
 ],
 "metadata": {
  "kernelspec": {
   "display_name": "weaviate",
   "language": "python",
   "name": "python3"
  },
  "language_info": {
   "codemirror_mode": {
    "name": "ipython",
    "version": 3
   },
   "file_extension": ".py",
   "mimetype": "text/x-python",
   "name": "python",
   "nbconvert_exporter": "python",
   "pygments_lexer": "ipython3",
   "version": "3.11.9"
  }
 },
 "nbformat": 4,
 "nbformat_minor": 2
}
